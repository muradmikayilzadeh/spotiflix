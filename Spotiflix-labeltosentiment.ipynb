{
 "cells": [
  {
   "cell_type": "code",
   "execution_count": 1,
   "id": "738ca8ed",
   "metadata": {},
   "outputs": [],
   "source": [
    "from __future__ import print_function, division\n",
    "import os\n",
    "import torch\n",
    "import pandas as pd\n",
    "from skimage import io, transform\n",
    "import numpy as np\n",
    "import matplotlib.pyplot as plt\n",
    "from torch.utils.data import Dataset, DataLoader\n",
    "from torchvision import transforms, utils\n",
    "import torch\n",
    "from torchvision import transforms, datasets\n",
    "import torchvision"
   ]
  },
  {
   "cell_type": "code",
   "execution_count": 2,
   "id": "c8e9005e",
   "metadata": {},
   "outputs": [],
   "source": [
    "from torch.utils.data import DataLoader, Dataset, random_split\n",
    "import torchaudio\n",
    "from torchvision import transforms, utils\n",
    "# ----------------------------\n",
    "# Sound Dataset\n",
    "# ----------------------------\n",
    "class SongLabelSet(Dataset):\n",
    "  def __init__(self, df):\n",
    "    self.df = df\n",
    "\n",
    "  # ----------------------------\n",
    "  # Number of items in dataset\n",
    "  # ----------------------------\n",
    "  def __len__(self):\n",
    "    return len(self.df)    \n",
    "    \n",
    "  # ----------------------------\n",
    "  # Get i'th item in dataset\n",
    "  # ----------------------------\n",
    "  def __getitem__(self, idx):\n",
    "    values = [\n",
    "        self.df[\"acousticness\"][idx],\n",
    "        self.df[\"danceability\"][idx],\n",
    "        self.df[\"energy\"][idx],\n",
    "        self.df[\"instrumentalness\"][idx],\n",
    "        self.df[\"liveness\"][idx],\n",
    "        self.df[\"speechiness\"][idx],\n",
    "        self.df[\"valence\"][idx],\n",
    "    ]\n",
    "    values = torch.tensor(values, dtype=torch.float32)\n",
    "    label = self.df[\"pos_percent\"][idx]\n",
    "    return values, label\n"
   ]
  },
  {
   "cell_type": "code",
   "execution_count": 3,
   "id": "7bf2055c",
   "metadata": {},
   "outputs": [],
   "source": [
    "songDataset = pd.read_csv(\"./song_positivity.csv\", low_memory=False)"
   ]
  },
  {
   "cell_type": "code",
   "execution_count": 4,
   "id": "366d5240",
   "metadata": {},
   "outputs": [],
   "source": [
    "songData = SongLabelSet(songDataset)"
   ]
  },
  {
   "cell_type": "code",
   "execution_count": 5,
   "id": "bad0ce61",
   "metadata": {},
   "outputs": [
    {
     "data": {
      "text/plain": [
       "4776"
      ]
     },
     "execution_count": 5,
     "metadata": {},
     "output_type": "execute_result"
    }
   ],
   "source": [
    "len(songData)"
   ]
  },
  {
   "cell_type": "code",
   "execution_count": 287,
   "id": "1d4e688d",
   "metadata": {},
   "outputs": [
    {
     "data": {
      "text/plain": [
       "(tensor([0.0015, 0.2970, 0.9730, 0.9180, 0.1390, 0.1510, 0.2340]), 0.132678133)"
      ]
     },
     "execution_count": 287,
     "metadata": {},
     "output_type": "execute_result"
    }
   ],
   "source": [
    "songData[2]"
   ]
  },
  {
   "cell_type": "code",
   "execution_count": 8,
   "id": "2d462426",
   "metadata": {},
   "outputs": [
    {
     "data": {
      "text/plain": [
       "3821"
      ]
     },
     "execution_count": 8,
     "metadata": {},
     "output_type": "execute_result"
    }
   ],
   "source": [
    "num_items = len(songDataset)\n",
    "num_train = round(num_items * 0.8)\n",
    "num_val = num_items - num_train\n",
    "train_ds, val_ds = random_split(songData, [num_train, num_val])\n",
    "num_items\n",
    "len(train_ds)"
   ]
  },
  {
   "cell_type": "code",
   "execution_count": 289,
   "id": "7b343812",
   "metadata": {},
   "outputs": [],
   "source": [
    "batch_size = 32\n",
    "train_dl = torch.utils.data.DataLoader(train_ds, batch_size=batch_size, shuffle=True)\n",
    "val_dl = torch.utils.data.DataLoader(val_ds, batch_size=batch_size, shuffle=False)"
   ]
  },
  {
   "cell_type": "code",
   "execution_count": 290,
   "id": "5dc23488",
   "metadata": {},
   "outputs": [],
   "source": [
    "import torch\n",
    "import torch.nn as nn\n",
    "\n",
    "class LabelToPositivityModel(nn.Module):\n",
    "    def __init__(self):\n",
    "        super(LabelToPositivityModel, self).__init__()\n",
    "        self.fc1 = nn.Linear(7, 512)\n",
    "        self.relu1 = nn.ReLU()\n",
    "\n",
    "    \n",
    "        self.fc2 = nn.Linear(512, 256)\n",
    "        self.relu2 = nn.ReLU()\n",
    "\n",
    "\n",
    "        self.fc3 = nn.Linear(256, 128)\n",
    "        self.relu3 = nn.ReLU()\n",
    "\n",
    "\n",
    "        self.fc4 = nn.Linear(128, 1)\n",
    "        self.sigmoid = nn.Sigmoid()\n",
    "        \n",
    "        self.fchehe1 = nn.Linear(7,1)\n",
    "\n",
    "\n",
    "\n",
    "    def forward(self, x):\n",
    "        x = self.fchehe1(x)\n",
    "#         x = self.fchehe2(x)\n",
    "#         x = self.fc1(x)\n",
    "#         x = self.relu1(x)\n",
    "        \n",
    "#         x = self.fc2(x)\n",
    "#         x = self.relu2(x)\n",
    "\n",
    "#         x = self.fc3(x)\n",
    "#         x = self.relu3(x)\n",
    "\n",
    "#         x = self.fc4(x)\n",
    "#         x = self.sigmoid(x)\n",
    "\n",
    "        return x"
   ]
  },
  {
   "cell_type": "code",
   "execution_count": 291,
   "id": "d0fc3363",
   "metadata": {},
   "outputs": [],
   "source": [
    "device = torch.device(\"cpu\" if torch.cuda.is_available() else \"cpu\")"
   ]
  },
  {
   "cell_type": "code",
   "execution_count": 292,
   "id": "5e0b5dfe",
   "metadata": {},
   "outputs": [
    {
     "name": "stdout",
     "output_type": "stream",
     "text": [
      "cpu\n"
     ]
    }
   ],
   "source": [
    "model = LabelToPositivityModel()\n",
    "model.to(device)\n",
    "optimizer = torch.optim.Adam(model.parameters(), lr=0.001)\n",
    "# criterion = nn.CrossEntropyLoss()\n",
    "# criterion = nn.BCELoss()\n",
    "criterion = nn.MSELoss()\n",
    "print(next(model.parameters()).device)"
   ]
  },
  {
   "cell_type": "code",
   "execution_count": 293,
   "id": "219ca714",
   "metadata": {},
   "outputs": [],
   "source": [
    "def trainLabel(model, optimizer, criterion, trainloader, testloader, num_epochs):\n",
    "    model.train()\n",
    "    stats = [[],[]]\n",
    "#     print(device)\n",
    "    for epoch in range(num_epochs):\n",
    "        train_loss = 0.0\n",
    "        val_loss = 0.0\n",
    "        for data in trainloader:\n",
    "            \n",
    "            inputs, labels = data\n",
    "#             print(inputs)\n",
    "            labels = labels.type(torch.FloatTensor).unsqueeze(1)\n",
    "            \n",
    "            \n",
    "            optimizer.zero_grad()\n",
    "\n",
    "            outputs = model(inputs)\n",
    "#             print(labels)\n",
    "#             print(outputs)\n",
    "#             print(outputs.shape)\n",
    "#             print(labels.shape)\n",
    "            loss = criterion(outputs, labels)\n",
    "\n",
    "            loss.backward()\n",
    "            optimizer.step()\n",
    "            \n",
    "            train_loss += loss.item()\n",
    "\n",
    "            \n",
    "\n",
    " # Validation loop\n",
    "        with torch.no_grad():\n",
    "            for inputs, labels in testloader:\n",
    "#                 inputs, labels = inputs.to(device), labels.to(device)\n",
    "                labels = labels.type(torch.FloatTensor).unsqueeze(1)\n",
    "\n",
    "                outputs = model(inputs)\n",
    "                loss = criterion(outputs, labels)\n",
    "                \n",
    "                val_loss += loss.item()\n",
    "\n",
    "        \n",
    "        # Print epoch statistics\n",
    "        train_loss /= len(trainloader.dataset)\n",
    "        stats[0].append(train_loss)\n",
    "\n",
    "        val_loss /= len(testloader.dataset)\n",
    "        stats[1].append(val_loss)\n",
    "\n",
    "        print(f'Epoch {epoch+1}: Train Loss={train_loss:.4f}, Val Loss={val_loss:.4f}')\n",
    "\n",
    "    print(\"Finished training\")\n",
    "    return stats"
   ]
  },
  {
   "cell_type": "code",
   "execution_count": 295,
   "id": "39169804",
   "metadata": {},
   "outputs": [
    {
     "name": "stdout",
     "output_type": "stream",
     "text": [
      "Epoch 1: Train Loss=0.0014, Val Loss=0.0014\n",
      "Epoch 2: Train Loss=0.0014, Val Loss=0.0014\n",
      "Epoch 3: Train Loss=0.0014, Val Loss=0.0014\n",
      "Epoch 4: Train Loss=0.0014, Val Loss=0.0014\n",
      "Epoch 5: Train Loss=0.0014, Val Loss=0.0014\n",
      "Epoch 6: Train Loss=0.0014, Val Loss=0.0014\n",
      "Epoch 7: Train Loss=0.0014, Val Loss=0.0014\n",
      "Epoch 8: Train Loss=0.0014, Val Loss=0.0014\n",
      "Epoch 9: Train Loss=0.0014, Val Loss=0.0014\n",
      "Epoch 10: Train Loss=0.0014, Val Loss=0.0014\n",
      "Epoch 11: Train Loss=0.0014, Val Loss=0.0014\n",
      "Epoch 12: Train Loss=0.0014, Val Loss=0.0014\n",
      "Epoch 13: Train Loss=0.0014, Val Loss=0.0014\n",
      "Epoch 14: Train Loss=0.0014, Val Loss=0.0014\n",
      "Epoch 15: Train Loss=0.0014, Val Loss=0.0014\n",
      "Epoch 16: Train Loss=0.0014, Val Loss=0.0014\n",
      "Epoch 17: Train Loss=0.0014, Val Loss=0.0014\n",
      "Epoch 18: Train Loss=0.0014, Val Loss=0.0014\n",
      "Epoch 19: Train Loss=0.0014, Val Loss=0.0014\n",
      "Epoch 20: Train Loss=0.0014, Val Loss=0.0014\n",
      "Epoch 21: Train Loss=0.0014, Val Loss=0.0014\n",
      "Epoch 22: Train Loss=0.0014, Val Loss=0.0014\n",
      "Epoch 23: Train Loss=0.0014, Val Loss=0.0014\n",
      "Epoch 24: Train Loss=0.0014, Val Loss=0.0014\n",
      "Epoch 25: Train Loss=0.0014, Val Loss=0.0014\n",
      "Epoch 26: Train Loss=0.0014, Val Loss=0.0014\n",
      "Epoch 27: Train Loss=0.0014, Val Loss=0.0014\n",
      "Epoch 28: Train Loss=0.0014, Val Loss=0.0014\n",
      "Epoch 29: Train Loss=0.0014, Val Loss=0.0014\n",
      "Epoch 30: Train Loss=0.0014, Val Loss=0.0014\n",
      "Epoch 31: Train Loss=0.0014, Val Loss=0.0014\n",
      "Epoch 32: Train Loss=0.0014, Val Loss=0.0014\n",
      "Epoch 33: Train Loss=0.0014, Val Loss=0.0014\n",
      "Epoch 34: Train Loss=0.0014, Val Loss=0.0014\n",
      "Epoch 35: Train Loss=0.0014, Val Loss=0.0014\n",
      "Epoch 36: Train Loss=0.0014, Val Loss=0.0014\n",
      "Epoch 37: Train Loss=0.0014, Val Loss=0.0014\n",
      "Epoch 38: Train Loss=0.0014, Val Loss=0.0014\n",
      "Epoch 39: Train Loss=0.0014, Val Loss=0.0014\n",
      "Epoch 40: Train Loss=0.0014, Val Loss=0.0014\n",
      "Finished training\n"
     ]
    }
   ],
   "source": [
    "stats = trainLabel(model, optimizer, criterion, train_dl, val_dl, 40)"
   ]
  },
  {
   "cell_type": "code",
   "execution_count": 296,
   "id": "80f55ab5",
   "metadata": {},
   "outputs": [
    {
     "name": "stdout",
     "output_type": "stream",
     "text": [
      "tensor([[0.3756]])\n",
      "0.132678133\n"
     ]
    }
   ],
   "source": [
    "model.eval()\n",
    "with torch.no_grad():\n",
    "    inputt = torch.Tensor(songData[2][0]).unsqueeze(0)\n",
    "    result = model(inputt)\n",
    "    print(result)\n",
    "    print(songData[2][1])"
   ]
  },
  {
   "cell_type": "code",
   "execution_count": 297,
   "id": "2ca7d5d0",
   "metadata": {},
   "outputs": [],
   "source": [
    "torch.save(model, \"./labeltopos.pt\")"
   ]
  },
  {
   "cell_type": "code",
   "execution_count": null,
   "id": "99219128",
   "metadata": {},
   "outputs": [],
   "source": []
  }
 ],
 "metadata": {
  "kernelspec": {
   "display_name": "Python 3 (ipykernel)",
   "language": "python",
   "name": "python3"
  },
  "language_info": {
   "codemirror_mode": {
    "name": "ipython",
    "version": 3
   },
   "file_extension": ".py",
   "mimetype": "text/x-python",
   "name": "python",
   "nbconvert_exporter": "python",
   "pygments_lexer": "ipython3",
   "version": "3.9.13"
  }
 },
 "nbformat": 4,
 "nbformat_minor": 5
}
